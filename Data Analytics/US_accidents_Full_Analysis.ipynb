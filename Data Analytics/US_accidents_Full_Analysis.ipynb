{
 "cells": [
  {
   "cell_type": "markdown",
   "metadata": {},
   "source": [
    "PHASE 0 - IMPORT DATASET"
   ]
  },
  {
   "cell_type": "code",
   "execution_count": 1,
   "metadata": {},
   "outputs": [],
   "source": [
    "# import basic libraries\n",
    "import pandas as pd\n",
    "import numpy as np\n",
    "import seaborn as sns\n",
    "import matplotlib.pyplot as plt\n",
    "from sklearn.preprocessing import LabelEncoder\n",
    "from sklearn.model_selection import train_test_split\n",
    "from sklearn.preprocessing import StandardScaler\n",
    "from sklearn.naive_bayes import GaussianNB\n",
    "from sklearn.metrics import confusion_matrix,accuracy_score\n",
    "from sklearn.ensemble import RandomForestClassifier\n",
    "from sklearn.tree import DecisionTreeClassifier\n",
    "from sklearn import metrics\n",
    "from sklearn.cluster import KMeans\n",
    "from tensorflow.keras.models import Sequential\n",
    "from tensorflow.keras.layers import Dense\n",
    "from sklearn.cluster import KMeans\n",
    "from sklearn import metrics\n",
    "from scipy.spatial.distance import cdist"
   ]
  },
  {
   "cell_type": "code",
   "execution_count": 2,
   "metadata": {},
   "outputs": [],
   "source": [
    "# read the dataset\n",
    "data = pd.read_csv('dataset.csv',nrows=10000)"
   ]
  },
  {
   "cell_type": "markdown",
   "metadata": {},
   "source": [
    "PHASE 1 - PREPROCESSING"
   ]
  },
  {
   "cell_type": "code",
   "execution_count": 3,
   "metadata": {},
   "outputs": [],
   "source": [
    "# delete unecessary columns. These data are not helpful to our research\n",
    "data.drop('ID', axis=1, inplace=True)\n",
    "data.drop(\"Description\", axis=1, inplace=True)\n",
    "data.drop(\"Number\", axis=1, inplace=True)\n",
    "data.drop(\"Zipcode\", axis=1, inplace=True)\n",
    "data.drop(\"Country\", axis=1, inplace=True)\n",
    "data.drop(\"Airport_Code\", axis=1, inplace=True)\n",
    "data.drop(\"Weather_Timestamp\", axis=1, inplace=True)\n",
    "data.drop(\"Pressure(in)\", axis=1, inplace=True)\n",
    "data.drop(\"Wind_Direction\", axis=1, inplace=True)\n",
    "data.drop(\"Wind_Speed(mph)\", axis=1, inplace=True)\n",
    "data.drop(\"Precipitation(in)\", axis=1, inplace=True)\n",
    "data.drop(\"Amenity\", axis=1, inplace=True)\n",
    "data.drop(\"Bump\", axis=1, inplace=True)\n",
    "data.drop(\"Crossing\", axis=1, inplace=True)\n",
    "data.drop(\"Give_Way\", axis=1, inplace=True)\n",
    "data.drop(\"Junction\", axis=1, inplace=True)\n",
    "data.drop(\"No_Exit\", axis=1, inplace=True)\n",
    "data.drop(\"Railway\", axis=1, inplace=True)\n",
    "data.drop(\"Roundabout\", axis=1, inplace=True)\n",
    "data.drop(\"Station\", axis=1, inplace=True)\n",
    "data.drop(\"Stop\", axis=1, inplace=True)\n",
    "data.drop(\"Traffic_Calming\", axis=1, inplace=True)\n",
    "data.drop(\"Traffic_Signal\", axis=1, inplace=True)\n",
    "data.drop(\"Turning_Loop\", axis=1, inplace=True)\n",
    "data.drop(\"Start_Time\", axis=1, inplace=True)\n",
    "data.drop(\"End_Time\", axis=1, inplace=True)\n",
    "data.drop(\"Start_Lat\", axis=1, inplace=True)\n",
    "data.drop(\"Start_Lng\", axis=1, inplace=True)\n",
    "data.drop(\"End_Lat\", axis=1, inplace=True)\n",
    "data.drop(\"End_Lng\", axis=1, inplace=True)\n",
    "data.drop(\"Wind_Chill(F)\", axis=1, inplace=True)\n",
    "data.drop(\"Street\", axis=1, inplace=True)\n",
    "data.drop(\"City\", axis=1, inplace=True)\n",
    "data.drop(\"County\", axis=1, inplace=True)"
   ]
  },
  {
   "cell_type": "code",
   "execution_count": 4,
   "metadata": {},
   "outputs": [],
   "source": [
    "# Delete missing values\n",
    "# remove every row that has at least one missing value (NaN)\n",
    "data.dropna(axis=0,inplace=True)"
   ]
  },
  {
   "cell_type": "code",
   "execution_count": 5,
   "metadata": {},
   "outputs": [],
   "source": [
    "# Delete duplicate rows\n",
    "data.drop_duplicates(inplace = True)"
   ]
  },
  {
   "cell_type": "code",
   "execution_count": 6,
   "metadata": {},
   "outputs": [],
   "source": [
    "# reindex the dataframe after deletion of rows\n",
    "data.reset_index(drop=True, inplace=True)"
   ]
  },
  {
   "cell_type": "code",
   "execution_count": 7,
   "metadata": {},
   "outputs": [],
   "source": [
    "# select the last 4 columns from the dataset, so as to combine them in one column\n",
    "last_4_columns  = data.iloc[: , -4:]\n",
    "\n",
    "# convert each record of these columns. Night == 0 and Day == 1\n",
    "last_4_columns[\"Sunrise_Sunset\"] = np.where(last_4_columns[\"Sunrise_Sunset\"] == \"Night\", 0, 1)\n",
    "last_4_columns[\"Civil_Twilight\"] = np.where(last_4_columns[\"Civil_Twilight\"] == \"Night\", 0, 1)\n",
    "last_4_columns[\"Nautical_Twilight\"] = np.where(last_4_columns[\"Nautical_Twilight\"] == \"Night\", 0, 1)\n",
    "last_4_columns[\"Astronomical_Twilight\"] = np.where(last_4_columns[\"Astronomical_Twilight\"] == \"Night\", 0, 1)\n",
    "\n",
    "# find the mean of each row of the last_4_columns dataframe\n",
    "last_4_columns = last_4_columns.mean(axis=1)\n",
    "\n",
    "# convert the values of the last_4_rows dataframe into 0 and 1, based in a condition\n",
    "# if the mean of a row is <0,5, then the value of this row will be 0, else it will be 1\n",
    "for i in range (len(last_4_columns)):\n",
    "    if last_4_columns[i] < 0.5:\n",
    "        last_4_columns[i] = 0\n",
    "    else:\n",
    "        last_4_columns[i] = 1"
   ]
  },
  {
   "cell_type": "code",
   "execution_count": 8,
   "metadata": {},
   "outputs": [],
   "source": [
    "# convert R and L of column 'Side' to 0 and 1 respectively. That means that R is 0 and L is 1.\n",
    "data[\"Side\"] = np.where(data['Side'] == \"R\", 0, 1)"
   ]
  },
  {
   "cell_type": "code",
   "execution_count": 9,
   "metadata": {},
   "outputs": [],
   "source": [
    "# delete the last 4 columns of the dataset\n",
    "# we do not need them, as we can combine them in a new column\n",
    "data.drop('Sunrise_Sunset', axis=1, inplace=True)\n",
    "data.drop('Civil_Twilight', axis=1, inplace=True)\n",
    "data.drop('Nautical_Twilight', axis=1, inplace=True)\n",
    "data.drop('Astronomical_Twilight', axis=1, inplace=True)"
   ]
  },
  {
   "cell_type": "code",
   "execution_count": 10,
   "metadata": {},
   "outputs": [],
   "source": [
    "# add a new column to the dataset.\n",
    "# this new column will be the \"last_4_columns\" dataframe that we calculated earlier\n",
    "data.insert(9,\"Day_Night\",last_4_columns)"
   ]
  },
  {
   "cell_type": "code",
   "execution_count": 11,
   "metadata": {},
   "outputs": [],
   "source": [
    "# Converting 'Day_Night' column from float to int\n",
    "data = data.astype({\"Day_Night\": int})"
   ]
  },
  {
   "cell_type": "code",
   "execution_count": 12,
   "metadata": {},
   "outputs": [],
   "source": [
    "# round all the values of \"Temperature(F)\" column\n",
    "data[\"Temperature(F)\"] = data[\"Temperature(F)\"].round(0)"
   ]
  },
  {
   "cell_type": "code",
   "execution_count": 13,
   "metadata": {},
   "outputs": [
    {
     "data": {
      "text/html": [
       "<div>\n",
       "<style scoped>\n",
       "    .dataframe tbody tr th:only-of-type {\n",
       "        vertical-align: middle;\n",
       "    }\n",
       "\n",
       "    .dataframe tbody tr th {\n",
       "        vertical-align: top;\n",
       "    }\n",
       "\n",
       "    .dataframe thead th {\n",
       "        text-align: right;\n",
       "    }\n",
       "</style>\n",
       "<table border=\"1\" class=\"dataframe\">\n",
       "  <thead>\n",
       "    <tr style=\"text-align: right;\">\n",
       "      <th></th>\n",
       "      <th>Severity</th>\n",
       "      <th>Distance(mi)</th>\n",
       "      <th>Side</th>\n",
       "      <th>State</th>\n",
       "      <th>Timezone</th>\n",
       "      <th>Temperature(F)</th>\n",
       "      <th>Humidity(%)</th>\n",
       "      <th>Visibility(mi)</th>\n",
       "      <th>Weather_Condition</th>\n",
       "      <th>Day_Night</th>\n",
       "    </tr>\n",
       "  </thead>\n",
       "  <tbody>\n",
       "    <tr>\n",
       "      <th>0</th>\n",
       "      <td>3</td>\n",
       "      <td>3.230</td>\n",
       "      <td>0</td>\n",
       "      <td>OH</td>\n",
       "      <td>US/Eastern</td>\n",
       "      <td>42.0</td>\n",
       "      <td>58.0</td>\n",
       "      <td>10.0</td>\n",
       "      <td>Light Rain</td>\n",
       "      <td>0</td>\n",
       "    </tr>\n",
       "    <tr>\n",
       "      <th>1</th>\n",
       "      <td>2</td>\n",
       "      <td>0.747</td>\n",
       "      <td>0</td>\n",
       "      <td>OH</td>\n",
       "      <td>US/Eastern</td>\n",
       "      <td>37.0</td>\n",
       "      <td>91.0</td>\n",
       "      <td>10.0</td>\n",
       "      <td>Light Rain</td>\n",
       "      <td>0</td>\n",
       "    </tr>\n",
       "    <tr>\n",
       "      <th>2</th>\n",
       "      <td>2</td>\n",
       "      <td>0.055</td>\n",
       "      <td>0</td>\n",
       "      <td>OH</td>\n",
       "      <td>US/Eastern</td>\n",
       "      <td>36.0</td>\n",
       "      <td>97.0</td>\n",
       "      <td>10.0</td>\n",
       "      <td>Overcast</td>\n",
       "      <td>0</td>\n",
       "    </tr>\n",
       "    <tr>\n",
       "      <th>3</th>\n",
       "      <td>2</td>\n",
       "      <td>0.123</td>\n",
       "      <td>0</td>\n",
       "      <td>OH</td>\n",
       "      <td>US/Eastern</td>\n",
       "      <td>39.0</td>\n",
       "      <td>55.0</td>\n",
       "      <td>10.0</td>\n",
       "      <td>Overcast</td>\n",
       "      <td>1</td>\n",
       "    </tr>\n",
       "    <tr>\n",
       "      <th>4</th>\n",
       "      <td>3</td>\n",
       "      <td>0.500</td>\n",
       "      <td>0</td>\n",
       "      <td>OH</td>\n",
       "      <td>US/Eastern</td>\n",
       "      <td>37.0</td>\n",
       "      <td>93.0</td>\n",
       "      <td>10.0</td>\n",
       "      <td>Light Rain</td>\n",
       "      <td>1</td>\n",
       "    </tr>\n",
       "  </tbody>\n",
       "</table>\n",
       "</div>"
      ],
      "text/plain": [
       "   Severity  Distance(mi)  Side State    Timezone  Temperature(F)  \\\n",
       "0         3         3.230     0    OH  US/Eastern            42.0   \n",
       "1         2         0.747     0    OH  US/Eastern            37.0   \n",
       "2         2         0.055     0    OH  US/Eastern            36.0   \n",
       "3         2         0.123     0    OH  US/Eastern            39.0   \n",
       "4         3         0.500     0    OH  US/Eastern            37.0   \n",
       "\n",
       "   Humidity(%)  Visibility(mi) Weather_Condition  Day_Night  \n",
       "0         58.0            10.0        Light Rain          0  \n",
       "1         91.0            10.0        Light Rain          0  \n",
       "2         97.0            10.0          Overcast          0  \n",
       "3         55.0            10.0          Overcast          1  \n",
       "4         93.0            10.0        Light Rain          1  "
      ]
     },
     "execution_count": 13,
     "metadata": {},
     "output_type": "execute_result"
    }
   ],
   "source": [
    "# print dataset\n",
    "data.head()"
   ]
  },
  {
   "cell_type": "code",
   "execution_count": 14,
   "metadata": {},
   "outputs": [],
   "source": [
    "# delete outliers from the dataset using the IQR method.\n",
    "# We will focus only in columns: Temperature(F), Distance(mi), Visibility(mi) and Humidity(%)\n",
    "for x in [\"Temperature(F)\"]:\n",
    "    q75,q25 = np.percentile(data.loc[:,x],[75,25])\n",
    "    intr_qr = q75-q25\n",
    "\n",
    "    max = q75+(1.5*intr_qr)\n",
    "    min = q25-(1.5*intr_qr)\n",
    "\n",
    "    data.loc[data[x] < min,x] = np.nan\n",
    "    data.loc[data[x] > max,x] = np.nan\n",
    "\n",
    "#---------------------------------------------------------------#\n",
    "\n",
    "for x in [\"Distance(mi)\"]:\n",
    "    q75,q25 = np.percentile(data.loc[:,x],[75,25])\n",
    "    intr_qr = q75-q25\n",
    "\n",
    "    max = q75+(1.5*intr_qr)\n",
    "    min = q25-(1.5*intr_qr)\n",
    "\n",
    "    data.loc[data[x] < min,x] = np.nan\n",
    "    data.loc[data[x] > max,x] = np.nan\n",
    "\n",
    "#---------------------------------------------------------------#\n",
    "\n",
    "for x in [\"Humidity(%)\"]:\n",
    "    q75,q25 = np.percentile(data.loc[:,x],[75,25])\n",
    "    intr_qr = q75-q25\n",
    "\n",
    "    max = q75+(1.5*intr_qr)\n",
    "    min = q25-(1.5*intr_qr)\n",
    "\n",
    "    data.loc[data[x] < min,x] = np.nan\n",
    "    data.loc[data[x] > max,x] = np.nan\n",
    "\n",
    "#---------------------------------------------------------------#\n",
    "\n",
    "for x in [\"Visibility(mi)\"]:\n",
    "    q75,q25 = np.percentile(data.loc[:,x],[75,25])\n",
    "    intr_qr = q75-q25\n",
    "\n",
    "    max = q75+(1.5*intr_qr)\n",
    "    min = q25-(1.5*intr_qr) - 5 # In order to keep values other than 10 (Ex. 5.5,6,7,8,9,10)\n",
    "\n",
    "    data.loc[data[x] < min,x] = np.nan\n",
    "    data.loc[data[x] > max,x] = np.nan"
   ]
  },
  {
   "cell_type": "code",
   "execution_count": 15,
   "metadata": {},
   "outputs": [],
   "source": [
    "# Delete rows that contain nulls (outliers)\n",
    "data.dropna(axis=0,inplace=True)"
   ]
  },
  {
   "cell_type": "code",
   "execution_count": 16,
   "metadata": {},
   "outputs": [],
   "source": [
    "# reindex the dataframe after deletion of rows\n",
    "data.reset_index(drop=True, inplace=True)"
   ]
  },
  {
   "cell_type": "code",
   "execution_count": 17,
   "metadata": {},
   "outputs": [],
   "source": [
    "# Discretization of the column \"Weather_Condition\"\n",
    "\n",
    "# we have separated all unique weather conditions of the dataset into four lists (very_bad_weahter, bad_weather,medium_weather and perfect_weather).\n",
    "# This separation has been done according to our opinion.\n",
    "\n",
    "very_bad_weather = ['Tornado','Smoke','Snow Grains','Shallow Fog','Thunderstorm','Light Thunderstorms and Rain','Thunder','Thunder in the Vicinity','Thunderstorms and Rain',\n",
    "'Heavy Rain','Fog','Blowing Snow','Mist','T-Storm','T-Storm / Windy','Volcanic Ash','Heavy Thunderstorms and Rain','Thunder / Windy','Heavy T-Storm / Windy','Heavy T-Storm',\n",
    "'Heavy Drizzle','Sand / Dust Whirlwinds','Blowing Snow Nearby','Heavy Rain / Windy','Sand / Dust Whirls Nearby']\n",
    "\n",
    "bad_weather = ['Patches of Fog','Haze','Light Snow','Squalls','Light Ice Pellets','Widespread Dust','Blowing Dust / Windy',\n",
    "'Light Snow / Windy','Light Snow Showers','Wintry Mix','Light Rain with Thunder', 'Haze / Windy','Dust Whirls','Light Snow and Sleet','Snow',\n",
    "'Light Snow and Sleet / Windy','Light Sleet','Patches of Fog / Windy','Low Drifting Snow','Squalls / Windy','Wintry Mix / Windy','Sleet']\n",
    "\n",
    "medium_weather = ['Light Rain','Overcast','Mostly Cloudy', 'Cloudy','Scattered Clouds','Drizzle','Light Drizzle','Light Freezing Drizzle','Rain','Fair / Windy','Light Freezing Rain','Cloudy / Windy','Partly Cloudy / Windy',\n",
    "'Light Rain Showers','Light Rain / Windy','Mostly Cloudy / Windy','Blowing Dust','Funnel Cloud','Light Rain Shower','Smoke / Windy','Light Rain Shower / Windy','Rain Shower','Sand / Dust Whirlwinds / Windy','Rain Showers',\n",
    "'Light Drizzle / Windy','Showers in the Vicinity','Widespread Dust / Windy','Light Freezing Rain / Windy''N/A Precipitation','Rain / Windy',\n",
    "'Light Sleet / Windy','Hail','Drizzle / Windy','Light Haze']\n",
    "\n",
    "perfect_weather = ['Clear','Fair','Partly Cloudy','Small Hail']\n",
    "\n",
    "# change the values of the column \"Weather_Condition\" column\n",
    "# Now, column \"Weather_Condition\" has only records: \"Bad\",\"Medium\" and \"Perfect\"\n",
    "for i in range(len(data[\"Weather_Condition\"])):\n",
    "    if data[\"Weather_Condition\"][i] in bad_weather:\n",
    "        data.at[i,\"Weather_Condition\"] = 2\n",
    "    elif data[\"Weather_Condition\"][i] in medium_weather:\n",
    "        data.at[i,\"Weather_Condition\"] = 3  \n",
    "    elif data[\"Weather_Condition\"][i] in very_bad_weather:\n",
    "         data.at[i,\"Weather_Condition\"] = 1\n",
    "    else:\n",
    "        data.at[i,\"Weather_Condition\"] = 4 # perfect weather"
   ]
  },
  {
   "cell_type": "code",
   "execution_count": 18,
   "metadata": {},
   "outputs": [],
   "source": [
    "# Convert data type of column 'Weather_Condition' to int\n",
    "data = data.astype({\"Weather_Condition\": int})"
   ]
  },
  {
   "cell_type": "code",
   "execution_count": 19,
   "metadata": {},
   "outputs": [],
   "source": [
    "# Convert 'State' column of the dataframe into numbers ()\n",
    " \n",
    "# instance of label Encoder\n",
    "le = LabelEncoder()\n",
    " \n",
    "# encode column 'State' and return encoded label\n",
    "label = le.fit_transform(data['State'])\n",
    "\n",
    "# insert new column to the dataset\n",
    "data.insert(4,\"State_Number\",label)"
   ]
  },
  {
   "cell_type": "code",
   "execution_count": 20,
   "metadata": {},
   "outputs": [
    {
     "data": {
      "text/html": [
       "<div>\n",
       "<style scoped>\n",
       "    .dataframe tbody tr th:only-of-type {\n",
       "        vertical-align: middle;\n",
       "    }\n",
       "\n",
       "    .dataframe tbody tr th {\n",
       "        vertical-align: top;\n",
       "    }\n",
       "\n",
       "    .dataframe thead th {\n",
       "        text-align: right;\n",
       "    }\n",
       "</style>\n",
       "<table border=\"1\" class=\"dataframe\">\n",
       "  <thead>\n",
       "    <tr style=\"text-align: right;\">\n",
       "      <th></th>\n",
       "      <th>Severity</th>\n",
       "      <th>Distance(mi)</th>\n",
       "      <th>Side</th>\n",
       "      <th>State</th>\n",
       "      <th>State_Number</th>\n",
       "      <th>Timezone</th>\n",
       "      <th>Temperature(F)</th>\n",
       "      <th>Humidity(%)</th>\n",
       "      <th>Visibility(mi)</th>\n",
       "      <th>Weather_Condition</th>\n",
       "      <th>Day_Night</th>\n",
       "    </tr>\n",
       "  </thead>\n",
       "  <tbody>\n",
       "    <tr>\n",
       "      <th>0</th>\n",
       "      <td>2</td>\n",
       "      <td>0.222</td>\n",
       "      <td>0</td>\n",
       "      <td>OH</td>\n",
       "      <td>4</td>\n",
       "      <td>US/Eastern</td>\n",
       "      <td>43.0</td>\n",
       "      <td>51.0</td>\n",
       "      <td>10.0</td>\n",
       "      <td>4</td>\n",
       "      <td>1</td>\n",
       "    </tr>\n",
       "    <tr>\n",
       "      <th>1</th>\n",
       "      <td>2</td>\n",
       "      <td>0.030</td>\n",
       "      <td>0</td>\n",
       "      <td>OH</td>\n",
       "      <td>4</td>\n",
       "      <td>US/Eastern</td>\n",
       "      <td>40.0</td>\n",
       "      <td>60.0</td>\n",
       "      <td>10.0</td>\n",
       "      <td>4</td>\n",
       "      <td>1</td>\n",
       "    </tr>\n",
       "    <tr>\n",
       "      <th>2</th>\n",
       "      <td>2</td>\n",
       "      <td>0.201</td>\n",
       "      <td>0</td>\n",
       "      <td>OH</td>\n",
       "      <td>4</td>\n",
       "      <td>US/Eastern</td>\n",
       "      <td>40.0</td>\n",
       "      <td>60.0</td>\n",
       "      <td>10.0</td>\n",
       "      <td>4</td>\n",
       "      <td>0</td>\n",
       "    </tr>\n",
       "    <tr>\n",
       "      <th>3</th>\n",
       "      <td>2</td>\n",
       "      <td>0.093</td>\n",
       "      <td>0</td>\n",
       "      <td>OH</td>\n",
       "      <td>4</td>\n",
       "      <td>US/Eastern</td>\n",
       "      <td>43.0</td>\n",
       "      <td>60.0</td>\n",
       "      <td>10.0</td>\n",
       "      <td>3</td>\n",
       "      <td>1</td>\n",
       "    </tr>\n",
       "    <tr>\n",
       "      <th>4</th>\n",
       "      <td>3</td>\n",
       "      <td>0.205</td>\n",
       "      <td>0</td>\n",
       "      <td>OH</td>\n",
       "      <td>4</td>\n",
       "      <td>US/Eastern</td>\n",
       "      <td>42.0</td>\n",
       "      <td>62.0</td>\n",
       "      <td>10.0</td>\n",
       "      <td>4</td>\n",
       "      <td>1</td>\n",
       "    </tr>\n",
       "  </tbody>\n",
       "</table>\n",
       "</div>"
      ],
      "text/plain": [
       "   Severity  Distance(mi)  Side State  State_Number    Timezone  \\\n",
       "0         2         0.222     0    OH             4  US/Eastern   \n",
       "1         2         0.030     0    OH             4  US/Eastern   \n",
       "2         2         0.201     0    OH             4  US/Eastern   \n",
       "3         2         0.093     0    OH             4  US/Eastern   \n",
       "4         3         0.205     0    OH             4  US/Eastern   \n",
       "\n",
       "   Temperature(F)  Humidity(%)  Visibility(mi)  Weather_Condition  Day_Night  \n",
       "0            43.0         51.0            10.0                  4          1  \n",
       "1            40.0         60.0            10.0                  4          1  \n",
       "2            40.0         60.0            10.0                  4          0  \n",
       "3            43.0         60.0            10.0                  3          1  \n",
       "4            42.0         62.0            10.0                  4          1  "
      ]
     },
     "execution_count": 20,
     "metadata": {},
     "output_type": "execute_result"
    }
   ],
   "source": [
    "# print dataset\n",
    "data.head()"
   ]
  },
  {
   "cell_type": "markdown",
   "metadata": {},
   "source": [
    "PHASE 2 - DATA VISUALIZATION"
   ]
  },
  {
   "cell_type": "code",
   "execution_count": 21,
   "metadata": {},
   "outputs": [
    {
     "data": {
      "image/png": "[encoded data removed]",
      "text/plain": [
       "<Figure size 432x288 with 2 Axes>"
      ]
     },
     "metadata": {
      "needs_background": "light"
     },
     "output_type": "display_data"
    }
   ],
   "source": [
    "# show the correlation of data using Heatmap\n",
    "sns.heatmap(data.corr(), annot=True, cmap=\"YlGnBu\")\n",
    "plt.show()"
   ]
  },
  {
   "cell_type": "code",
   "execution_count": 22,
   "metadata": {},
   "outputs": [
    {
     "data": {
      "image/png": "[encoded data removed]",
      "text/plain": [
       "<Figure size 432x288 with 1 Axes>"
      ]
     },
     "metadata": {
      "needs_background": "light"
     },
     "output_type": "display_data"
    }
   ],
   "source": [
    "# Visualize 'Weather_Condition' column using histogram\n",
    "plt.hist(data[\"Weather_Condition\"])\n",
    "plt.xlabel('Weather categories')\n",
    "plt.ylabel('Number of observations')\n",
    "plt.show()"
   ]
  },
  {
   "cell_type": "code",
   "execution_count": 23,
   "metadata": {},
   "outputs": [
    {
     "data": {
      "image/png": "[encoded data removed]",
      "text/plain": [
       "<Figure size 432x288 with 1 Axes>"
      ]
     },
     "metadata": {
      "needs_background": "light"
     },
     "output_type": "display_data"
    }
   ],
   "source": [
    "# Visualize 'Severity' column using histogram\n",
    "plt.hist(data[\"Severity\"])\n",
    "plt.xlabel('Severity')\n",
    "plt.ylabel('Number of observations')\n",
    "plt.show()"
   ]
  },
  {
   "cell_type": "code",
   "execution_count": 24,
   "metadata": {},
   "outputs": [
    {
     "data": {
      "text/html": [
       "<div>\n",
       "<style scoped>\n",
       "    .dataframe tbody tr th:only-of-type {\n",
       "        vertical-align: middle;\n",
       "    }\n",
       "\n",
       "    .dataframe tbody tr th {\n",
       "        vertical-align: top;\n",
       "    }\n",
       "\n",
       "    .dataframe thead th {\n",
       "        text-align: right;\n",
       "    }\n",
       "</style>\n",
       "<table border=\"1\" class=\"dataframe\">\n",
       "  <thead>\n",
       "    <tr style=\"text-align: right;\">\n",
       "      <th></th>\n",
       "      <th>State</th>\n",
       "      <th>Counts</th>\n",
       "    </tr>\n",
       "  </thead>\n",
       "  <tbody>\n",
       "    <tr>\n",
       "      <th>0</th>\n",
       "      <td>CA</td>\n",
       "      <td>7648</td>\n",
       "    </tr>\n",
       "    <tr>\n",
       "      <th>1</th>\n",
       "      <td>OH</td>\n",
       "      <td>170</td>\n",
       "    </tr>\n",
       "    <tr>\n",
       "      <th>2</th>\n",
       "      <td>KY</td>\n",
       "      <td>45</td>\n",
       "    </tr>\n",
       "    <tr>\n",
       "      <th>3</th>\n",
       "      <td>WV</td>\n",
       "      <td>25</td>\n",
       "    </tr>\n",
       "    <tr>\n",
       "      <th>4</th>\n",
       "      <td>IN</td>\n",
       "      <td>18</td>\n",
       "    </tr>\n",
       "    <tr>\n",
       "      <th>5</th>\n",
       "      <td>PA</td>\n",
       "      <td>18</td>\n",
       "    </tr>\n",
       "    <tr>\n",
       "      <th>6</th>\n",
       "      <td>MI</td>\n",
       "      <td>4</td>\n",
       "    </tr>\n",
       "  </tbody>\n",
       "</table>\n",
       "</div>"
      ],
      "text/plain": [
       "  State  Counts\n",
       "0    CA    7648\n",
       "1    OH     170\n",
       "2    KY      45\n",
       "3    WV      25\n",
       "4    IN      18\n",
       "5    PA      18\n",
       "6    MI       4"
      ]
     },
     "execution_count": 24,
     "metadata": {},
     "output_type": "execute_result"
    }
   ],
   "source": [
    "# print States, in which the majority of accidents has happened\n",
    "n_accidents_per_state = data['State'].value_counts().head(10).rename_axis('State').reset_index(name='Counts')\n",
    "n_accidents_per_state"
   ]
  },
  {
   "cell_type": "markdown",
   "metadata": {},
   "source": [
    "PHASE 3 - DATA CLUSTERING"
   ]
  },
  {
   "cell_type": "code",
   "execution_count": 25,
   "metadata": {},
   "outputs": [],
   "source": [
    "############################################################\n",
    "# CLUSTER DATASET BASED ON Severity AND Weather Condition  #\n",
    "############################################################\n",
    "\n",
    "C1 = data[['Severity', 'Weather_Condition']].copy()"
   ]
  },
  {
   "cell_type": "code",
   "execution_count": 26,
   "metadata": {},
   "outputs": [
    {
     "data": {
      "text/plain": [
       "\"\\n# elbow method to find out the optimum K\\nwcss = []\\nfor i in range(1, 10):\\n    kmeans = KMeans(n_clusters=i)\\n    kmeans.fit(C1)\\n    wcss.append(kmeans.inertia_)\\n\\nsns.set()\\nplt.plot(range(1, 10), wcss)\\nplt.title('Selecting the Numbeer of Clusters using the Elbow Method')\\nplt.xlabel('Clusters')\\nplt.ylabel('WCSS')\\nplt.show()\\n\""
      ]
     },
     "execution_count": 26,
     "metadata": {},
     "output_type": "execute_result"
    }
   ],
   "source": [
    "'''\n",
    "# elbow method to find out the optimum K\n",
    "wcss = []\n",
    "for i in range(1, 10):\n",
    "    kmeans = KMeans(n_clusters=i)\n",
    "    kmeans.fit(C1)\n",
    "    wcss.append(kmeans.inertia_)\n",
    "\n",
    "sns.set()\n",
    "plt.plot(range(1, 10), wcss)\n",
    "plt.title('Selecting the Numbeer of Clusters using the Elbow Method')\n",
    "plt.xlabel('Clusters')\n",
    "plt.ylabel('WCSS')\n",
    "plt.show()\n",
    "'''"
   ]
  },
  {
   "cell_type": "code",
   "execution_count": 27,
   "metadata": {},
   "outputs": [
    {
     "data": {
      "image/png": "[encoded data removed]",
      "text/plain": [
       "<Figure size 432x288 with 1 Axes>"
      ]
     },
     "metadata": {
      "needs_background": "light"
     },
     "output_type": "display_data"
    }
   ],
   "source": [
    "# K-means implementation and visualization of the effect\n",
    "kmeans = KMeans(n_clusters=3)\n",
    "Y1 = kmeans.fit_predict(C1)\n",
    "\n",
    "plt.scatter(C1['Severity'], C1['Weather_Condition'],c=Y1,cmap=\"autumn\")\n",
    "plt.xlabel('Severity')\n",
    "plt.ylabel('Weather Condition')\n",
    "plt.show()"
   ]
  },
  {
   "cell_type": "code",
   "execution_count": 28,
   "metadata": {},
   "outputs": [],
   "source": [
    "############################################################\n",
    "# CLUSTER DATASET BASED ON Weather_Condition AND Distance  #\n",
    "############################################################\n",
    "\n",
    "C2 = data[['Weather_Condition', 'Distance(mi)']].copy()"
   ]
  },
  {
   "cell_type": "code",
   "execution_count": 29,
   "metadata": {},
   "outputs": [
    {
     "data": {
      "text/plain": [
       "\"\\n# use elbow method to find out optimum K\\nwcss = []\\nfor i in range(1, 10):\\n    kmeans = KMeans(n_clusters=i, random_state=0)\\n    kmeans.fit(C2)\\n    wcss.append(kmeans.inertia_)\\n\\nsns.set()\\nplt.plot(range(1, 10), wcss)\\nplt.title('Selecting the Numbeer of Clusters using the Elbow Method')\\nplt.xlabel('Clusters')\\nplt.ylabel('WCSS')\\nplt.show()\\n\""
      ]
     },
     "execution_count": 29,
     "metadata": {},
     "output_type": "execute_result"
    }
   ],
   "source": [
    "'''\n",
    "# use elbow method to find out optimum K\n",
    "wcss = []\n",
    "for i in range(1, 10):\n",
    "    kmeans = KMeans(n_clusters=i, random_state=0)\n",
    "    kmeans.fit(C2)\n",
    "    wcss.append(kmeans.inertia_)\n",
    "\n",
    "sns.set()\n",
    "plt.plot(range(1, 10), wcss)\n",
    "plt.title('Selecting the Numbeer of Clusters using the Elbow Method')\n",
    "plt.xlabel('Clusters')\n",
    "plt.ylabel('WCSS')\n",
    "plt.show()\n",
    "'''"
   ]
  },
  {
   "cell_type": "code",
   "execution_count": 30,
   "metadata": {},
   "outputs": [
    {
     "data": {
      "image/png": "[encoded data removed]",
      "text/plain": [
       "<Figure size 432x288 with 1 Axes>"
      ]
     },
     "metadata": {
      "needs_background": "light"
     },
     "output_type": "display_data"
    }
   ],
   "source": [
    "# make the classification and visualize the output\n",
    "kmeans = KMeans(n_clusters=2)\n",
    "Y2 = kmeans.fit_predict(C2)\n",
    "\n",
    "plt.scatter(C2['Weather_Condition'], C2['Distance(mi)'],c=Y2,cmap='autumn')\n",
    "plt.xlabel('Weather_Condition')\n",
    "plt.ylabel('Distance(mi)')\n",
    "plt.show()"
   ]
  },
  {
   "cell_type": "code",
   "execution_count": 31,
   "metadata": {},
   "outputs": [],
   "source": [
    "############################################################\n",
    "# CLUSTER DATASET BASED ON Severity AND State              #\n",
    "############################################################\n",
    "\n",
    "C3 = data[['Severity', 'State_Number']].copy()"
   ]
  },
  {
   "cell_type": "code",
   "execution_count": 32,
   "metadata": {},
   "outputs": [
    {
     "data": {
      "text/plain": [
       "\"\\n# use Elbow method to find out optimum K\\nwcss = []\\nfor i in range(1, 10):\\n    kmeans = KMeans(n_clusters=i, random_state=0)\\n    kmeans.fit(C3)\\n    wcss.append(kmeans.inertia_)\\n\\nsns.set()\\nplt.plot(range(1, 10), wcss)\\nplt.title('Selecting the Numbeer of Clusters using the Elbow Method')\\nplt.xlabel('Clusters')\\nplt.ylabel('WCSS')\\nplt.show()\\n\""
      ]
     },
     "execution_count": 32,
     "metadata": {},
     "output_type": "execute_result"
    }
   ],
   "source": [
    "'''\n",
    "# use Elbow method to find out optimum K\n",
    "wcss = []\n",
    "for i in range(1, 10):\n",
    "    kmeans = KMeans(n_clusters=i, random_state=0)\n",
    "    kmeans.fit(C3)\n",
    "    wcss.append(kmeans.inertia_)\n",
    "\n",
    "sns.set()\n",
    "plt.plot(range(1, 10), wcss)\n",
    "plt.title('Selecting the Numbeer of Clusters using the Elbow Method')\n",
    "plt.xlabel('Clusters')\n",
    "plt.ylabel('WCSS')\n",
    "plt.show()\n",
    "'''"
   ]
  },
  {
   "cell_type": "code",
   "execution_count": 33,
   "metadata": {},
   "outputs": [
    {
     "data": {
      "image/png": "[encoded data removed]",
      "text/plain": [
       "<Figure size 432x288 with 1 Axes>"
      ]
     },
     "metadata": {
      "needs_background": "light"
     },
     "output_type": "display_data"
    }
   ],
   "source": [
    "# make classification and visualization of the output\n",
    "kmeans = KMeans(n_clusters=2)\n",
    "Y3 = kmeans.fit_predict(C3)\n",
    "\n",
    "plt.scatter(C3['Severity'], C3['State_Number'],c=Y3,cmap=\"autumn\")\n",
    "plt.xlabel('Severity')\n",
    "plt.ylabel('StateNumber')\n",
    "plt.show()"
   ]
  },
  {
   "cell_type": "code",
   "execution_count": 34,
   "metadata": {},
   "outputs": [],
   "source": [
    "############################################################\n",
    "# CLUSTER DATASET BASED ON Day_Night AND Visibility(mi)    #\n",
    "############################################################\n",
    "\n",
    "C4 = data[['Day_Night', 'Visibility(mi)']].copy()"
   ]
  },
  {
   "cell_type": "code",
   "execution_count": 35,
   "metadata": {},
   "outputs": [
    {
     "data": {
      "text/plain": [
       "\"\\n# use Elbow method to find the optimum K\\nwcss = []\\nfor i in range(1, 10):\\n    kmeans = KMeans(n_clusters=i, random_state=0)\\n    kmeans.fit(C4)\\n    wcss.append(kmeans.inertia_)\\n\\nsns.set()\\nplt.plot(range(1, 10), wcss)\\nplt.title('Selecting the Numbeer of Clusters using the Elbow Method')\\nplt.xlabel('Clusters')\\nplt.ylabel('WCSS')\\nplt.show()\\n\""
      ]
     },
     "execution_count": 35,
     "metadata": {},
     "output_type": "execute_result"
    }
   ],
   "source": [
    "'''\n",
    "# use Elbow method to find the optimum K\n",
    "wcss = []\n",
    "for i in range(1, 10):\n",
    "    kmeans = KMeans(n_clusters=i, random_state=0)\n",
    "    kmeans.fit(C4)\n",
    "    wcss.append(kmeans.inertia_)\n",
    "\n",
    "sns.set()\n",
    "plt.plot(range(1, 10), wcss)\n",
    "plt.title('Selecting the Numbeer of Clusters using the Elbow Method')\n",
    "plt.xlabel('Clusters')\n",
    "plt.ylabel('WCSS')\n",
    "plt.show()\n",
    "'''"
   ]
  },
  {
   "cell_type": "code",
   "execution_count": 36,
   "metadata": {},
   "outputs": [
    {
     "data": {
      "image/png": "[encoded data removed]",
      "text/plain": [
       "<Figure size 432x288 with 1 Axes>"
      ]
     },
     "metadata": {
      "needs_background": "light"
     },
     "output_type": "display_data"
    }
   ],
   "source": [
    "# make classification and visualization\n",
    "kmeans = KMeans(n_clusters=3)\n",
    "Y4 = kmeans.fit_predict(C4)\n",
    "\n",
    "plt.scatter(C4['Day_Night'], C4['Visibility(mi)'],c=Y4,cmap=\"autumn\")\n",
    "plt.xlabel('Day_Night')\n",
    "plt.ylabel('Visibility(mi)')\n",
    "plt.show()"
   ]
  },
  {
   "cell_type": "code",
   "execution_count": 37,
   "metadata": {},
   "outputs": [],
   "source": [
    "############################################################\n",
    "# CLUSTER DATASET BASED ON Side and Severity               #\n",
    "############################################################\n",
    "\n",
    "#  we will run an algorithm (Elbow Method) in order to find the optimum K for our dataset\n",
    "C5 = data[['Side', 'Severity']].copy()"
   ]
  },
  {
   "cell_type": "code",
   "execution_count": 38,
   "metadata": {},
   "outputs": [
    {
     "data": {
      "text/plain": [
       "\"\\n# use Elbow method to find out optimum K\\nwcss = []\\nfor i in range(1, 10):\\n    kmeans = KMeans(n_clusters=i, random_state=0)\\n    kmeans.fit(C5)\\n    wcss.append(kmeans.inertia_)\\n\\nsns.set()\\nplt.plot(range(1, 10), wcss)\\nplt.title('Selecting the Numbeer of Clusters using the Elbow Method')\\nplt.xlabel('Clusters')\\nplt.ylabel('WCSS')\\nplt.show()\\n\""
      ]
     },
     "execution_count": 38,
     "metadata": {},
     "output_type": "execute_result"
    }
   ],
   "source": [
    "'''\n",
    "# use Elbow method to find out optimum K\n",
    "wcss = []\n",
    "for i in range(1, 10):\n",
    "    kmeans = KMeans(n_clusters=i, random_state=0)\n",
    "    kmeans.fit(C5)\n",
    "    wcss.append(kmeans.inertia_)\n",
    "\n",
    "sns.set()\n",
    "plt.plot(range(1, 10), wcss)\n",
    "plt.title('Selecting the Numbeer of Clusters using the Elbow Method')\n",
    "plt.xlabel('Clusters')\n",
    "plt.ylabel('WCSS')\n",
    "plt.show()\n",
    "'''"
   ]
  },
  {
   "cell_type": "code",
   "execution_count": 39,
   "metadata": {},
   "outputs": [
    {
     "data": {
      "image/png": "[encoded data removed]",
      "text/plain": [
       "<Figure size 432x288 with 1 Axes>"
      ]
     },
     "metadata": {
      "needs_background": "light"
     },
     "output_type": "display_data"
    }
   ],
   "source": [
    "# make classification and visualize the outcome\n",
    "kmeans = KMeans(n_clusters=3)\n",
    "Y5 = kmeans.fit_predict(C5)\n",
    "\n",
    "plt.scatter(C5['Side'], C5['Severity'],c=Y5,cmap=\"autumn\")\n",
    "plt.xlabel('Side')\n",
    "plt.ylabel('Severity')\n",
    "plt.show()"
   ]
  },
  {
   "cell_type": "markdown",
   "metadata": {},
   "source": [
    "PHASE 4 - DATA CLASSIFICATION"
   ]
  },
  {
   "cell_type": "code",
   "execution_count": 40,
   "metadata": {},
   "outputs": [],
   "source": [
    "# Features: Weather_Condition, Visibility(mi), Day_Night\n",
    "# Labels: Severity\n",
    "\n",
    "# X is the <Features> matrix\n",
    "X = data[['Weather_Condition', 'Visibility(mi)','Day_Night']].copy()\n",
    "y = data['Severity'].copy()"
   ]
  },
  {
   "cell_type": "code",
   "execution_count": 41,
   "metadata": {},
   "outputs": [],
   "source": [
    "# Split dataset into Train and Test\n",
    "X_train, X_test, y_train, y_test = train_test_split(X, y, test_size = 0.2, random_state = 0)"
   ]
  },
  {
   "cell_type": "code",
   "execution_count": 42,
   "metadata": {},
   "outputs": [],
   "source": [
    "# Normalize the X_train and X_test, in order for them to be between [0,1]  \n",
    "sc = StandardScaler()\n",
    "X_train = sc.fit_transform(X_train)\n",
    "X_test = sc.transform(X_test)"
   ]
  },
  {
   "cell_type": "code",
   "execution_count": 43,
   "metadata": {},
   "outputs": [
    {
     "data": {
      "text/plain": [
       "array([[ 0.86204316,  0.2923109 ,  0.30723235],\n",
       "       [ 0.86204316,  0.2923109 ,  0.30723235],\n",
       "       [ 0.86204316,  0.2923109 ,  0.30723235],\n",
       "       ...,\n",
       "       [-1.05152972,  0.2923109 ,  0.30723235],\n",
       "       [ 0.86204316,  0.2923109 ,  0.30723235],\n",
       "       [-1.05152972,  0.2923109 ,  0.30723235]])"
      ]
     },
     "execution_count": 43,
     "metadata": {},
     "output_type": "execute_result"
    }
   ],
   "source": [
    "# print X_train set\n",
    "X_train"
   ]
  },
  {
   "cell_type": "code",
   "execution_count": 44,
   "metadata": {},
   "outputs": [
    {
     "data": {
      "text/plain": [
       "array([[ 0.86204316,  0.2923109 ,  0.30723235],\n",
       "       [-1.05152972,  0.2923109 ,  0.30723235],\n",
       "       [ 0.86204316,  0.2923109 ,  0.30723235],\n",
       "       ...,\n",
       "       [-1.05152972,  0.2923109 ,  0.30723235],\n",
       "       [-1.05152972,  0.2923109 ,  0.30723235],\n",
       "       [-1.05152972,  0.2923109 , -3.25486557]])"
      ]
     },
     "execution_count": 44,
     "metadata": {},
     "output_type": "execute_result"
    }
   ],
   "source": [
    "# print X_test set\n",
    "X_test"
   ]
  },
  {
   "cell_type": "markdown",
   "metadata": {},
   "source": [
    "First classifying method - Gaussian Classifier"
   ]
  },
  {
   "cell_type": "code",
   "execution_count": 45,
   "metadata": {},
   "outputs": [],
   "source": [
    "# Use Bayes classifier in order to classify our Features and Labels\n",
    "classifier = GaussianNB()\n",
    "classifier.fit(X_train, y_train)\n",
    "\n",
    "# predict the test results\n",
    "y_pred1  =  classifier.predict(X_test)"
   ]
  },
  {
   "cell_type": "code",
   "execution_count": 46,
   "metadata": {},
   "outputs": [],
   "source": [
    "# Calculate the Confusion Matrix - Bayes Classifier\n",
    "cm1 = confusion_matrix(y_test, y_pred1)\n",
    "\n",
    "# Calculate accurancy score - Bayes Classifier\n",
    "ac1 = accuracy_score(y_test,y_pred1)"
   ]
  },
  {
   "cell_type": "code",
   "execution_count": 47,
   "metadata": {},
   "outputs": [
    {
     "data": {
      "image/png": "[encoded data removed]",
      "text/plain": [
       "<Figure size 432x288 with 2 Axes>"
      ]
     },
     "metadata": {
      "needs_background": "light"
     },
     "output_type": "display_data"
    }
   ],
   "source": [
    "# Plot confusion matrix using a heatmap\n",
    "ax = sns.heatmap(cm1/np.sum(cm1), annot=True, fmt='.2%', cmap='Blues')\n",
    "\n",
    "ax.set_title('Confusion Matrix - Bayes Classifier')\n",
    "ax.set_xlabel('\\nPredicted Values')\n",
    "ax.set_ylabel('Actual Values ')\n",
    "\n",
    "## Ticket labels - List must be in alphabetical order\n",
    "ax.xaxis.set_ticklabels(['Severity 2','Severity 3','Severity 4'])\n",
    "ax.yaxis.set_ticklabels(['Severity 2','Severity 3','Severity 4'])\n",
    "\n",
    "## Display the visualization of the Confusion Matrix.\n",
    "plt.show()"
   ]
  },
  {
   "cell_type": "code",
   "execution_count": 48,
   "metadata": {},
   "outputs": [
    {
     "data": {
      "text/plain": [
       "0.7938209331651954"
      ]
     },
     "execution_count": 48,
     "metadata": {},
     "output_type": "execute_result"
    }
   ],
   "source": [
    "# Print accurancy score of Bayes Classifier\n",
    "ac1"
   ]
  },
  {
   "cell_type": "markdown",
   "metadata": {},
   "source": [
    "Second classifying method - Decision Tree Classifier"
   ]
  },
  {
   "cell_type": "code",
   "execution_count": 49,
   "metadata": {},
   "outputs": [],
   "source": [
    "# Initialize classifier\n",
    "dtc = DecisionTreeClassifier()\n",
    "\n",
    "# fit classifier\n",
    "dtc.fit(X_train, y_train)\n",
    "\n",
    "# make the classification process\n",
    "y_pred2 = dtc.predict(X_test)"
   ]
  },
  {
   "cell_type": "code",
   "execution_count": 50,
   "metadata": {},
   "outputs": [],
   "source": [
    "# calculate accurancy - Decision Tree Classifier\n",
    "ac2 = metrics.accuracy_score(y_test, y_pred2)\n",
    "\n",
    "# calculate confusion matrix - Decision Tree Classifier\n",
    "cm2 = confusion_matrix(y_test, y_pred2)"
   ]
  },
  {
   "cell_type": "code",
   "execution_count": 51,
   "metadata": {},
   "outputs": [
    {
     "data": {
      "image/png": "[encoded data removed]",
      "text/plain": [
       "<Figure size 432x288 with 2 Axes>"
      ]
     },
     "metadata": {
      "needs_background": "light"
     },
     "output_type": "display_data"
    }
   ],
   "source": [
    "# Plot confusion matrix using a heatmap\n",
    "ax = sns.heatmap(cm2/np.sum(cm2), annot=True, fmt='.2%', cmap='Blues')\n",
    "\n",
    "ax.set_title('Confusion Matrix - Decision Tree Classifier')\n",
    "ax.set_xlabel('\\nPredicted Values')\n",
    "ax.set_ylabel('Actual Values ')\n",
    "\n",
    "## Ticket labels - List must be in alphabetical order\n",
    "ax.xaxis.set_ticklabels(['Severity 2','Severity 3','Severity 4'])\n",
    "ax.yaxis.set_ticklabels(['Severity 2','Severity 3','Severity 4'])\n",
    "\n",
    "## Display the visualization of the Confusion Matrix.\n",
    "plt.show()"
   ]
  },
  {
   "cell_type": "code",
   "execution_count": 52,
   "metadata": {},
   "outputs": [
    {
     "data": {
      "text/plain": [
       "0.8455233291298865"
      ]
     },
     "execution_count": 52,
     "metadata": {},
     "output_type": "execute_result"
    }
   ],
   "source": [
    "# Print accurancy score of Decision Tree Classifier\n",
    "ac2"
   ]
  },
  {
   "cell_type": "markdown",
   "metadata": {},
   "source": [
    "Third classifying method - Random Forest"
   ]
  },
  {
   "cell_type": "code",
   "execution_count": 53,
   "metadata": {},
   "outputs": [],
   "source": [
    "# initialize random forest classifier\n",
    "clf=RandomForestClassifier(n_estimators=100)\n",
    "\n",
    "# train the model\n",
    "clf.fit(X_train,y_train)\n",
    "\n",
    "y_pred3=clf.predict(X_test)"
   ]
  },
  {
   "cell_type": "code",
   "execution_count": 54,
   "metadata": {},
   "outputs": [],
   "source": [
    "# calculate accurancy - Random Forest Classifier\n",
    "ac3 = metrics.accuracy_score(y_test, y_pred3)\n",
    "\n",
    "# calculate confusion matrix - Random Forest Classifier\n",
    "cm3 = confusion_matrix(y_test, y_pred3)"
   ]
  },
  {
   "cell_type": "code",
   "execution_count": 55,
   "metadata": {},
   "outputs": [
    {
     "data": {
      "image/png": "[encoded data removed]",
      "text/plain": [
       "<Figure size 432x288 with 2 Axes>"
      ]
     },
     "metadata": {
      "needs_background": "light"
     },
     "output_type": "display_data"
    }
   ],
   "source": [
    "# Plot confusion matrix using a heatmap\n",
    "ax = sns.heatmap(cm3/np.sum(cm3), annot=True, fmt='.2%', cmap='Blues')\n",
    "\n",
    "ax.set_title('Confusion Matrix - Random Forest Classifier')\n",
    "ax.set_xlabel('\\nPredicted Values')\n",
    "ax.set_ylabel('Actual Values ')\n",
    "\n",
    "## Ticket labels - List must be in alphabetical order\n",
    "ax.xaxis.set_ticklabels(['Severity 2','Severity 3','Severity 4'])\n",
    "ax.yaxis.set_ticklabels(['Severity 2','Severity 3','Severity 4'])\n",
    "\n",
    "## Display the visualization of the Confusion Matrix.\n",
    "plt.show()"
   ]
  },
  {
   "cell_type": "code",
   "execution_count": 56,
   "metadata": {},
   "outputs": [
    {
     "data": {
      "text/plain": [
       "0.8448928121059268"
      ]
     },
     "execution_count": 56,
     "metadata": {},
     "output_type": "execute_result"
    }
   ],
   "source": [
    "# Print accurancy score of Random Forest Classifier\n",
    "ac3"
   ]
  },
  {
   "cell_type": "markdown",
   "metadata": {},
   "source": [
    "PHASE 4 - MAKE A DATA STORY USING KERAS"
   ]
  },
  {
   "cell_type": "code",
   "execution_count": 57,
   "metadata": {},
   "outputs": [
    {
     "data": {
      "text/plain": [
       "array([[ 0.86204316,  0.2923109 ,  0.30723235],\n",
       "       [ 0.86204316,  0.2923109 ,  0.30723235],\n",
       "       [ 0.86204316,  0.2923109 ,  0.30723235],\n",
       "       ...,\n",
       "       [-1.05152972,  0.2923109 ,  0.30723235],\n",
       "       [ 0.86204316,  0.2923109 ,  0.30723235],\n",
       "       [-1.05152972,  0.2923109 ,  0.30723235]])"
      ]
     },
     "execution_count": 57,
     "metadata": {},
     "output_type": "execute_result"
    }
   ],
   "source": [
    "# print X_train set\n",
    "X_train"
   ]
  },
  {
   "cell_type": "code",
   "execution_count": 58,
   "metadata": {},
   "outputs": [],
   "source": [
    "# One - Hot encding the output varriable (label)\n",
    "y_train = pd.get_dummies(y_train)\n",
    "y_train = np.array(y_train)\n",
    "\n",
    "y_test = pd.get_dummies(y_test)\n",
    "y_test = np.array(y_test)"
   ]
  },
  {
   "cell_type": "code",
   "execution_count": 59,
   "metadata": {},
   "outputs": [
    {
     "data": {
      "text/plain": [
       "array([[1, 0, 0],\n",
       "       [1, 0, 0],\n",
       "       [1, 0, 0],\n",
       "       ...,\n",
       "       [1, 0, 0],\n",
       "       [1, 0, 0],\n",
       "       [1, 0, 0]], dtype=uint8)"
      ]
     },
     "execution_count": 59,
     "metadata": {},
     "output_type": "execute_result"
    }
   ],
   "source": [
    "# print y_train set\n",
    "y_train"
   ]
  },
  {
   "cell_type": "code",
   "execution_count": 60,
   "metadata": {},
   "outputs": [
    {
     "data": {
      "text/plain": [
       "array([[1, 0, 0],\n",
       "       [1, 0, 0],\n",
       "       [1, 0, 0],\n",
       "       ...,\n",
       "       [1, 0, 0],\n",
       "       [1, 0, 0],\n",
       "       [1, 0, 0]], dtype=uint8)"
      ]
     },
     "execution_count": 60,
     "metadata": {},
     "output_type": "execute_result"
    }
   ],
   "source": [
    "# print y_test set\n",
    "y_test"
   ]
  },
  {
   "cell_type": "code",
   "execution_count": 61,
   "metadata": {},
   "outputs": [],
   "source": [
    "#################################\n",
    "# define the first keras model  #\n",
    "#################################\n",
    "\n",
    "# make a sequential newral network with 3 inputs and 3 outputs\n",
    "model = Sequential()\n",
    "model.add(Dense(6, input_dim = 3, activation = 'relu')) # Rectified Linear Unit Activation Function\n",
    "model.add(Dense(12, activation='relu'))\n",
    "model.add(Dense(3, activation='softmax')) # Softmax for multi-class classification"
   ]
  },
  {
   "cell_type": "code",
   "execution_count": 62,
   "metadata": {},
   "outputs": [],
   "source": [
    "# compile the first model\n",
    "model.compile(loss = 'categorical_crossentropy', optimizer = 'adam', metrics = ['accuracy'])"
   ]
  },
  {
   "cell_type": "code",
   "execution_count": 63,
   "metadata": {},
   "outputs": [
    {
     "name": "stdout",
     "output_type": "stream",
     "text": [
      "Epoch 1/30\n",
      "64/64 [==============================] - 1s 3ms/step - loss: 1.2616 - accuracy: 0.4554\n",
      "Epoch 2/30\n",
      "64/64 [==============================] - 0s 3ms/step - loss: 1.0364 - accuracy: 0.7272\n",
      "Epoch 3/30\n",
      "64/64 [==============================] - 0s 3ms/step - loss: 0.8973 - accuracy: 0.8401\n",
      "Epoch 4/30\n",
      "64/64 [==============================] - 0s 3ms/step - loss: 0.8002 - accuracy: 0.8617\n",
      "Epoch 5/30\n",
      "64/64 [==============================] - 0s 3ms/step - loss: 0.7211 - accuracy: 0.8617\n",
      "Epoch 6/30\n",
      "64/64 [==============================] - 0s 3ms/step - loss: 0.6492 - accuracy: 0.8617\n",
      "Epoch 7/30\n",
      "64/64 [==============================] - 0s 3ms/step - loss: 0.5817 - accuracy: 0.8617\n",
      "Epoch 8/30\n",
      "64/64 [==============================] - 0s 3ms/step - loss: 0.5327 - accuracy: 0.8617\n",
      "Epoch 9/30\n",
      "64/64 [==============================] - 0s 3ms/step - loss: 0.4981 - accuracy: 0.8617\n",
      "Epoch 10/30\n",
      "64/64 [==============================] - 0s 3ms/step - loss: 0.4788 - accuracy: 0.8617\n",
      "Epoch 11/30\n",
      "64/64 [==============================] - 0s 3ms/step - loss: 0.4688 - accuracy: 0.8614\n",
      "Epoch 12/30\n",
      "64/64 [==============================] - 0s 3ms/step - loss: 0.4630 - accuracy: 0.8612\n",
      "Epoch 13/30\n",
      "64/64 [==============================] - 0s 3ms/step - loss: 0.4595 - accuracy: 0.8617\n",
      "Epoch 14/30\n",
      "64/64 [==============================] - 0s 4ms/step - loss: 0.4569 - accuracy: 0.8617\n",
      "Epoch 15/30\n",
      "64/64 [==============================] - 0s 3ms/step - loss: 0.4552 - accuracy: 0.8617\n",
      "Epoch 16/30\n",
      "64/64 [==============================] - 0s 3ms/step - loss: 0.4539 - accuracy: 0.8617\n",
      "Epoch 17/30\n",
      "64/64 [==============================] - 0s 3ms/step - loss: 0.4530 - accuracy: 0.8617\n",
      "Epoch 18/30\n",
      "64/64 [==============================] - 0s 3ms/step - loss: 0.4522 - accuracy: 0.8617\n",
      "Epoch 19/30\n",
      "64/64 [==============================] - 0s 3ms/step - loss: 0.4516 - accuracy: 0.8617\n",
      "Epoch 20/30\n",
      "64/64 [==============================] - 0s 4ms/step - loss: 0.4511 - accuracy: 0.8617\n",
      "Epoch 21/30\n",
      "64/64 [==============================] - 0s 3ms/step - loss: 0.4507 - accuracy: 0.8617\n",
      "Epoch 22/30\n",
      "64/64 [==============================] - 0s 3ms/step - loss: 0.4506 - accuracy: 0.8617\n",
      "Epoch 23/30\n",
      "64/64 [==============================] - 0s 3ms/step - loss: 0.4502 - accuracy: 0.8617\n",
      "Epoch 24/30\n",
      "64/64 [==============================] - 0s 3ms/step - loss: 0.4500 - accuracy: 0.8617\n",
      "Epoch 25/30\n",
      "64/64 [==============================] - 0s 3ms/step - loss: 0.4498 - accuracy: 0.8617\n",
      "Epoch 26/30\n",
      "64/64 [==============================] - 0s 3ms/step - loss: 0.4496 - accuracy: 0.8617\n",
      "Epoch 27/30\n",
      "64/64 [==============================] - 0s 3ms/step - loss: 0.4495 - accuracy: 0.8617\n",
      "Epoch 28/30\n",
      "64/64 [==============================] - 0s 3ms/step - loss: 0.4494 - accuracy: 0.8617\n",
      "Epoch 29/30\n",
      "64/64 [==============================] - 0s 3ms/step - loss: 0.4493 - accuracy: 0.8617\n",
      "Epoch 30/30\n",
      "64/64 [==============================] - 0s 3ms/step - loss: 0.4492 - accuracy: 0.8617\n"
     ]
    },
    {
     "data": {
      "text/plain": [
       "<keras.callbacks.History at 0x2c5ca5a8dc0>"
      ]
     },
     "execution_count": 63,
     "metadata": {},
     "output_type": "execute_result"
    }
   ],
   "source": [
    "# train the first model\n",
    "model.fit(X_train, y_train,epochs=30, batch_size=100, verbose=1)"
   ]
  },
  {
   "cell_type": "code",
   "execution_count": 79,
   "metadata": {},
   "outputs": [
    {
     "name": "stdout",
     "output_type": "stream",
     "text": [
      "50/50 [==============================] - 0s 3ms/step\n"
     ]
    },
    {
     "data": {
      "text/plain": [
       "array([[1., 0., 0.],\n",
       "       [1., 0., 0.],\n",
       "       [1., 0., 0.],\n",
       "       ...,\n",
       "       [1., 0., 0.],\n",
       "       [1., 0., 0.],\n",
       "       [1., 0., 0.]], dtype=float32)"
      ]
     },
     "execution_count": 79,
     "metadata": {},
     "output_type": "execute_result"
    }
   ],
   "source": [
    "# now test the X_test set\n",
    "predicted_y1 = model.predict(X_test)"
   ]
  },
  {
   "cell_type": "code",
   "execution_count": 80,
   "metadata": {},
   "outputs": [
    {
     "data": {
      "text/plain": [
       "array([[1., 0., 0.],\n",
       "       [1., 0., 0.],\n",
       "       [1., 0., 0.],\n",
       "       ...,\n",
       "       [1., 0., 0.],\n",
       "       [1., 0., 0.],\n",
       "       [1., 0., 0.]], dtype=float32)"
      ]
     },
     "execution_count": 80,
     "metadata": {},
     "output_type": "execute_result"
    }
   ],
   "source": [
    "# convert predicted values to one - hot \n",
    "predicted_y1 = np.zeros_like(predicted_y1)\n",
    "predicted_y1[np.arange(len(predicted_y1)), predicted_y1.argmax(1)] = 1\n",
    "predicted_y1"
   ]
  },
  {
   "cell_type": "code",
   "execution_count": 86,
   "metadata": {},
   "outputs": [
    {
     "data": {
      "text/plain": [
       "{False: 488, True: 4270}"
      ]
     },
     "execution_count": 86,
     "metadata": {},
     "output_type": "execute_result"
    }
   ],
   "source": [
    "unique, counts = np.unique(predicted_y1 == y_test, return_counts=True)\n",
    "dict(zip(unique, counts))"
   ]
  },
  {
   "cell_type": "code",
   "execution_count": 69,
   "metadata": {},
   "outputs": [
    {
     "name": "stdout",
     "output_type": "stream",
     "text": [
      "50/50 [==============================] - 0s 4ms/step - loss: 0.4887 - accuracy: 0.8462\n"
     ]
    }
   ],
   "source": [
    "# evaluate the model\n",
    "score = model.evaluate(X_test,y_test,verbose=1)"
   ]
  },
  {
   "cell_type": "code",
   "execution_count": 68,
   "metadata": {},
   "outputs": [
    {
     "name": "stdout",
     "output_type": "stream",
     "text": [
      "[0.4887360632419586, 0.8461538553237915]\n"
     ]
    }
   ],
   "source": [
    "print(score)"
   ]
  }
 ],
 "metadata": {
  "kernelspec": {
   "display_name": "Python 3.10.4 ('Data_Analytics')",
   "language": "python",
   "name": "python3"
  },
  "language_info": {
   "codemirror_mode": {
    "name": "ipython",
    "version": 3
   },
   "file_extension": ".py",
   "mimetype": "text/x-python",
   "name": "python",
   "nbconvert_exporter": "python",
   "pygments_lexer": "ipython3",
   "version": "3.10.4"
  },
  "orig_nbformat": 4,
  "vscode": {
   "interpreter": {
    "hash": "11e38338a931143ea1329e4c0b117170196de693c451ef921e6b13931cd619fa"
   }
  }
 },
 "nbformat": 4,
 "nbformat_minor": 2
}
